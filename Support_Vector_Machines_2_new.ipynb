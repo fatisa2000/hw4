{
  "cells": [
    {
      "cell_type": "markdown",
      "metadata": {
        "id": "view-in-github",
        "colab_type": "text"
      },
      "source": [
        "<a href=\"https://colab.research.google.com/github/fatisa2000/hw4/blob/main/Support_Vector_Machines_2_new.ipynb\" target=\"_parent\"><img src=\"https://colab.research.google.com/assets/colab-badge.svg\" alt=\"Open In Colab\"/></a>"
      ]
    },
    {
      "cell_type": "markdown",
      "metadata": {
        "id": "0_6codqFnXgi"
      },
      "source": [
        "# SVM for classification, without and with kernels\n",
        "\n",
        "In this notebook we are going to explore the use of Support Vector Machines (SVMs) for image classification. We are going to use the famous MNIST dataset, that is a dataset of handwritten digits. We get the data from mldata.org, that is a public repository for machine learning data.\n",
        "\n",
        "The dataset consists of 70,000 images of handwritten digits (i.e., 0, 1, ... 9). Each image is 28 pixels by 28 pixels and we can think of it as a vector of 28x28 = 784 numbers. Each number is an integer between 0 and 255. For each image we have the corresponding label (i.e., 0, 1, ..., 9)."
      ]
    },
    {
      "cell_type": "code",
      "execution_count": 2,
      "metadata": {
        "id": "w7owrXabnXgn"
      },
      "outputs": [],
      "source": [
        "#load the required packages\n",
        "\n",
        "%matplotlib inline\n",
        "\n",
        "import numpy as np\n",
        "import matplotlib.pyplot as plt\n",
        "\n",
        "import sklearn\n",
        "from sklearn import svm, metrics\n",
        "from sklearn.datasets import fetch_openml"
      ]
    },
    {
      "cell_type": "markdown",
      "metadata": {
        "id": "f1Q2n9z_nXgr"
      },
      "source": [
        "Now let's load the dataset. 'data' contains the input, 'target' contains the label. We normalize the data by dividing each value by 255 so that each value is in [0,1]"
      ]
    },
    {
      "cell_type": "code",
      "execution_count": 3,
      "metadata": {
        "id": "Zn7ErChanXgs",
        "colab": {
          "base_uri": "https://localhost:8080/"
        },
        "outputId": "d70e94a9-93ae-4e47-d8bc-0bd9bac7c8d1"
      },
      "outputs": [
        {
          "output_type": "stream",
          "name": "stderr",
          "text": [
            "/usr/local/lib/python3.10/dist-packages/sklearn/datasets/_openml.py:968: FutureWarning: The default value of `parser` will change from `'liac-arff'` to `'auto'` in 1.4. You can set `parser='auto'` to silence this warning. Therefore, an `ImportError` will be raised from 1.4 if the dataset is dense and pandas is not installed. Note that the pandas parser may return different data types. See the Notes Section in fetch_openml's API doc for details.\n",
            "  warn(\n"
          ]
        }
      ],
      "source": [
        "#TODO: Normalize MNIST dataset and rescale the data\n",
        "# Load the MNIST dataset and normalize the features so that each value is in the range [0,1]\n",
        "mnist = fetch_openml('mnist_784', version=1)\n",
        "# Rescale the data\n",
        "X, y = mnist.data.to_numpy() / 255., mnist.target.to_numpy()"
      ]
    },
    {
      "cell_type": "markdown",
      "metadata": {
        "id": "THXcR9T1nXgu"
      },
      "source": [
        "Now split into training and test. We keep 500 samples in the training set. Make sure that each label is present at least 10 times\n",
        "in training. If it is not, then keep adding permutations to the initial data until this\n",
        "happens.\n",
        "\n",
        "**IMPORTANT**: if you cannot run the SVM with 500 samples or 1000 samples (see below), try with a smaller number of samples (e.g. 200 here and 400 below)."
      ]
    },
    {
      "cell_type": "code",
      "execution_count": 4,
      "metadata": {
        "id": "mK2rPXy3nXgv",
        "colab": {
          "base_uri": "https://localhost:8080/"
        },
        "outputId": "a412afed-efc8-49b4-e767-e97e36616d79"
      },
      "outputs": [
        {
          "output_type": "stream",
          "name": "stdout",
          "text": [
            "Labels and their frequencies in the training dataset: \n",
            "0: 58\n",
            "1: 62\n",
            "2: 43\n",
            "3: 44\n",
            "4: 47\n",
            "5: 48\n",
            "6: 46\n",
            "7: 63\n",
            "8: 41\n",
            "9: 48\n"
          ]
        }
      ],
      "source": [
        "# Randomly permute the data and split it into training and test sets, taking the first 500\n",
        "# data samples as training and the rest as test.\n",
        "permutation = np.random.permutation(X.shape[0])\n",
        "\n",
        "X = X[permutation]\n",
        "y = y[permutation]\n",
        "\n",
        "m_training = 500\n",
        "\n",
        "X_train, X_test = X[:m_training], X[m_training:]\n",
        "y_train, y_test = y[:m_training], y[m_training:]\n",
        "\n",
        "# Print the labels and their frequencies in the training dataset.\n",
        "print(\"Labels and their frequencies in the training dataset: \")\n",
        "unique_labels, label_counts = np.unique(y_train, return_counts=True)\n",
        "for label, count in zip(unique_labels, label_counts):\n",
        "    print(f\"{label}: {count}\")"
      ]
    },
    {
      "cell_type": "markdown",
      "metadata": {
        "id": "45ksUODunXgw"
      },
      "source": [
        "We now provide a function to print an image in a dataset, the corresponding true label, and the index of the image in the dataset."
      ]
    },
    {
      "cell_type": "code",
      "source": [
        "def plot_digit(X_matrix, labels, index):\n",
        " \"\"\"Plots a digit from the X_matrix and prints the corresponding label.\n",
        " Args:\n",
        " X_matrix (numpy.ndarray): Matrix of digit images.\n",
        " labels (numpy.ndarray): Array of digit labels.\n",
        " index (int): Index of the digit to plot and print.\n",
        "\"\"\"\n",
        " print(\"INPUT:\")\n",
        " plt.imshow(\n",
        "        X_matrix[index].reshape(28,28),\n",
        "        cmap          = plt.cm.gray_r,\n",
        "        interpolation = \"nearest\"\n",
        "    )\n",
        " plt.show()\n",
        " print(\"LABEL: %s\" % labels[index])"
      ],
      "metadata": {
        "id": "TeXh2BpHrd-5"
      },
      "execution_count": 5,
      "outputs": []
    },
    {
      "cell_type": "markdown",
      "metadata": {
        "id": "JEDj_SMOnXgz"
      },
      "source": [
        "As an example, let's print the 100-th image in X_train and the 40,000-th image in X_test and their true labels."
      ]
    },
    {
      "cell_type": "code",
      "execution_count": 6,
      "metadata": {
        "id": "9USuS-ztnXg1",
        "colab": {
          "base_uri": "https://localhost:8080/",
          "height": 916
        },
        "outputId": "080ed976-dd13-453e-b6f9-5181b3903329"
      },
      "outputs": [
        {
          "output_type": "stream",
          "name": "stdout",
          "text": [
            "INPUT:\n"
          ]
        },
        {
          "output_type": "display_data",
          "data": {
            "text/plain": [
              "<Figure size 640x480 with 1 Axes>"
            ],
            "image/png": "[encoded data removed]"
          },
          "metadata": {}
        },
        {
          "output_type": "stream",
          "name": "stdout",
          "text": [
            "LABEL: 3\n",
            "INPUT:\n"
          ]
        },
        {
          "output_type": "display_data",
          "data": {
            "text/plain": [
              "<Figure size 640x480 with 1 Axes>"
            ],
            "image/png": "[encoded data removed]"
          },
          "metadata": {}
        },
        {
          "output_type": "stream",
          "name": "stdout",
          "text": [
            "LABEL: 6\n"
          ]
        }
      ],
      "source": [
        "# Plot the 100th digit in the training set\n",
        "plot_digit(X_train, y_train, 100)\n",
        "\n",
        "# Plot the 40,000th digit in the test set\n",
        "plot_digit(X_test, y_test,40000)"
      ]
    },
    {
      "cell_type": "markdown",
      "metadata": {
        "id": "dp9-uKtFnXg4"
      },
      "source": [
        "## Section 1\n",
        "Run SVM with cross validation to pick a kernel and values of parameters. Use a 5-fold cross-validation to pick the best kernel and choice of parameters. We provide some potential choice for parameters, but change the grid if needed (e.g., it takes too long). For the SVM for classification use SVC from sklearn.svm; for the grid search we suggest you use GridSearchCV from sklearn.model_selection, but you can implement your own cross-validation for model selection if you prefer.\n",
        "\n",
        "Print the best parameters used as well as the score obtained by the best model"
      ]
    },
    {
      "cell_type": "code",
      "source": [
        "# Import the Support Vector Classifier (SVC) and GridSearchCV modules\n",
        "from sklearn.svm import SVC\n",
        "from sklearn.model_selection import GridSearchCV\n",
        "\n",
        "# Set the parameters for the linear SVM\n",
        "parameters = {'C': [1, 10, 100]}\n",
        "\n",
        "# Create a linear SVM object\n",
        "linear_SVM = SVC(kernel='linear')\n",
        "\n",
        "# TO DO: Find the best model using 5-fold cross-validation and train it using all the training data\n",
        "grid_search = GridSearchCV(linear_SVM,parameters, cv=5)\n",
        "grid_search.fit(X_train, y_train)\n",
        "best_svm_classifier = grid_search.best_estimator_\n",
        "best_svm_classifier.fit(X, y)\n",
        "predicted= best_svm_classifier.predict(X_test)\n",
        "accuracy = metrics.accuracy_score(y_test,predicted)\n",
        "# Print the results for the linear kernel\n",
        "print('RESULTS FOR LINEAR KERNEL\\n')\n",
        "print(\"accuracy:\", accuracy)\n",
        "print(\"Best parameters set found:\")\n",
        "# TO DO\n",
        "print(grid_search.best_params_)\n",
        "print(\"Score with best parameters:\")\n",
        "# TO DO\n",
        "print(grid_search.best_score_)\n",
        "print(\"\\nAll scores on the grid:\")\n",
        "# TO DO\n",
        "means = grid_search.cv_results_['mean_test_score']\n",
        "stds = grid_search.cv_results_['std_test_score']\n",
        "for mean, std, params in zip(means, stds, grid_search.cv_results_['params']):\n",
        "    print(f\"Mean: {mean}, Std: {std}, Parameters: {params}\")\n",
        "\n",
        "\n",
        "# Set the parameters for the polynomial kernel with degree 2\n",
        "parameters = {'C': [1, 10, 100], 'gamma': [0.01, 0.1, 1.]}\n",
        "# Create a polynomial kernel with degree 2 SVM object\n",
        "poly2_SVM = SVC(kernel='poly', degree=2)\n",
        "\n",
        "# TO DO: Find the best model using 5-fold cross-validation and train it using all the training data\n",
        "grid_search = GridSearchCV(poly2_SVM,parameters, cv=5)\n",
        "grid_search.fit(X_train, y_train)\n",
        "best_svm_classifier = grid_search.best_estimator_\n",
        "best_svm_classifier.fit(X, y)\n",
        "predicted= best_svm_classifier.predict(X_test)\n",
        "accuracy = metrics.accuracy_score(y_test,predicted)\n",
        "\n",
        "# Print the results for the polynomial kernel with degree 2\n",
        "print('\\nRESULTS FOR POLY DEGREE=2 KERNEL\\n')\n",
        "print(\"accuracy:\", accuracy)\n",
        "print(\"Best parameters set found:\")\n",
        "# TO DO\n",
        "print(grid_search.best_params_)\n",
        "print(\"Score with best parameters:\")\n",
        "# TO DO\n",
        "print(grid_search.best_score_)\n",
        "print(\"\\nAll scores on the grid:\")\n",
        "# TO DO\n",
        "means = grid_search.cv_results_['mean_test_score']\n",
        "stds = grid_search.cv_results_['std_test_score']\n",
        "for mean, std, params in zip(means, stds, grid_search.cv_results_['params']):\n",
        "    print(f\"Mean: {mean}, Std: {std}, Parameters: {params}\")\n",
        "\n",
        "\n",
        "# Set the parameters for the RBF kernel\n",
        "parameters = {'C': [1, 10, 100], 'gamma': [0.01, 0.1, 1.]}\n",
        "\n",
        "# Create an RBF kernel SVM object\n",
        "rbf_SVM = SVC(kernel='rbf')\n",
        "\n",
        "# TO DO: Find the best model using 5-fold cross-validation and train it using all the training data\n",
        "grid_search = GridSearchCV(rbf_SVM,parameters, cv=5)\n",
        "grid_search.fit(X_train, y_train)\n",
        "best_svm_classifier = grid_search.best_estimator_\n",
        "best_svm_classifier.fit(X, y)\n",
        "predicted= best_svm_classifier.predict(X_test)\n",
        "accuracy = metrics.accuracy_score(y_test,predicted)\n",
        "\n",
        "# Print the results for the RBF kernel\n",
        "print('\\nRESULTS FOR RBF KERNEL\\n')\n",
        "print(\"accuracy:\", accuracy)\n",
        "print(\"Best parameters set found:\")\n",
        "# TO DO\n",
        "print(grid_search.best_params_)\n",
        "print(\"Score with best parameters:\")\n",
        "# TO DO\n",
        "print(grid_search.best_score_)\n",
        "print(\"\\nAll scores on the grid:\")\n",
        "# TO DO\n",
        "means = grid_search.cv_results_['mean_test_score']\n",
        "stds = grid_search.cv_results_['std_test_score']\n",
        "for mean, std, params in zip(means, stds, grid_search.cv_results_['params']):\n",
        "    print(f\"Mean: {mean}, Std: {std}, Parameters: {params}\")\n"
      ],
      "metadata": {
        "id": "49FHb1CKuSa2",
        "colab": {
          "base_uri": "https://localhost:8080/"
        },
        "outputId": "4493f746-34ef-4436-d4c6-d87baab02040"
      },
      "execution_count": 7,
      "outputs": [
        {
          "output_type": "stream",
          "name": "stdout",
          "text": [
            "RESULTS FOR LINEAR KERNEL\n",
            "\n",
            "accuracy: 0.9691942446043166\n",
            "Best parameters set found:\n",
            "{'C': 1}\n",
            "Score with best parameters:\n",
            "0.8540000000000001\n",
            "\n",
            "All scores on the grid:\n",
            "Mean: 0.8540000000000001, Std: 0.024979991993593614, Parameters: {'C': 1}\n",
            "Mean: 0.8540000000000001, Std: 0.024979991993593614, Parameters: {'C': 10}\n",
            "Mean: 0.8540000000000001, Std: 0.024979991993593614, Parameters: {'C': 100}\n",
            "\n",
            "RESULTS FOR POLY DEGREE=2 KERNEL\n",
            "\n",
            "accuracy: 1.0\n",
            "Best parameters set found:\n",
            "{'C': 1, 'gamma': 0.1}\n",
            "Score with best parameters:\n",
            "0.8600000000000001\n",
            "\n",
            "All scores on the grid:\n",
            "Mean: 0.8220000000000001, Std: 0.011661903789690568, Parameters: {'C': 1, 'gamma': 0.01}\n",
            "Mean: 0.8600000000000001, Std: 0.02966479394838264, Parameters: {'C': 1, 'gamma': 0.1}\n",
            "Mean: 0.8600000000000001, Std: 0.02966479394838264, Parameters: {'C': 1, 'gamma': 1.0}\n",
            "Mean: 0.86, Std: 0.026832815729997458, Parameters: {'C': 10, 'gamma': 0.01}\n",
            "Mean: 0.8600000000000001, Std: 0.02966479394838264, Parameters: {'C': 10, 'gamma': 0.1}\n",
            "Mean: 0.8600000000000001, Std: 0.02966479394838264, Parameters: {'C': 10, 'gamma': 1.0}\n",
            "Mean: 0.8600000000000001, Std: 0.02966479394838264, Parameters: {'C': 100, 'gamma': 0.01}\n",
            "Mean: 0.8600000000000001, Std: 0.02966479394838264, Parameters: {'C': 100, 'gamma': 0.1}\n",
            "Mean: 0.8600000000000001, Std: 0.02966479394838264, Parameters: {'C': 100, 'gamma': 1.0}\n",
            "\n",
            "RESULTS FOR RBF KERNEL\n",
            "\n",
            "accuracy: 0.9995251798561151\n",
            "Best parameters set found:\n",
            "{'C': 10, 'gamma': 0.01}\n",
            "Score with best parameters:\n",
            "0.876\n",
            "\n",
            "All scores on the grid:\n",
            "Mean: 0.858, Std: 0.02315167380558047, Parameters: {'C': 1, 'gamma': 0.01}\n",
            "Mean: 0.386, Std: 0.03773592452822642, Parameters: {'C': 1, 'gamma': 0.1}\n",
            "Mean: 0.132, Std: 0.009797958971132722, Parameters: {'C': 1, 'gamma': 1.0}\n",
            "Mean: 0.876, Std: 0.018547236990991426, Parameters: {'C': 10, 'gamma': 0.01}\n",
            "Mean: 0.434, Std: 0.024166091947189133, Parameters: {'C': 10, 'gamma': 0.1}\n",
            "Mean: 0.134, Std: 0.012000000000000004, Parameters: {'C': 10, 'gamma': 1.0}\n",
            "Mean: 0.876, Std: 0.018547236990991426, Parameters: {'C': 100, 'gamma': 0.01}\n",
            "Mean: 0.434, Std: 0.024166091947189133, Parameters: {'C': 100, 'gamma': 0.1}\n",
            "Mean: 0.134, Std: 0.012000000000000004, Parameters: {'C': 100, 'gamma': 1.0}\n"
          ]
        }
      ]
    },
    {
      "cell_type": "markdown",
      "metadata": {
        "id": "sECvVFNvnXg6"
      },
      "source": [
        "## Section 2\n",
        "For the \"best\" SVM kernel and choice of parameters from above, train the model on the entire training set and measure the training error. Also make predictions on the test set and measure the test error. Print the training and the test error."
      ]
    },
    {
      "cell_type": "code",
      "execution_count": 9,
      "metadata": {
        "id": "sk0mqc0QnXg6",
        "colab": {
          "base_uri": "https://localhost:8080/"
        },
        "outputId": "8829fd13-cca4-4821-c4c6-f052edbc973e"
      },
      "outputs": [
        {
          "output_type": "stream",
          "name": "stdout",
          "text": [
            "Best SVM training error: 0.000000\n",
            "Best SVM test error: 0.133986\n"
          ]
        }
      ],
      "source": [
        "# Get the best SVM model from cross-validation\n",
        "# TO DO\n",
        "best_SVM=SVC(kernel='poly', degree=2)\n",
        "parameters = {'C': 1.0, 'gamma': 0.1}\n",
        "best_SVM.set_params(**parameters)\n",
        "# Fit the model on the entire training set\n",
        "best_SVM.fit(X_train, y_train)\n",
        "\n",
        "# Get the training and test error\n",
        "training_error = 1. - best_SVM.score(X_train, y_train)\n",
        "test_error = 1. - best_SVM.score(X_test, y_test)\n",
        "\n",
        "# Print the training and test error for the best SVM model\n",
        "print(\"Best SVM training error: %f\" % training_error)\n",
        "print(\"Best SVM test error: %f\" % test_error)\n"
      ]
    },
    {
      "cell_type": "markdown",
      "metadata": {
        "id": "-nMoD65fnXg6"
      },
      "source": [
        "## Use logistic regression for comparison\n",
        "\n",
        "## Section 3\n",
        "\n",
        "Just for comparison let's also use logistic regression, first with the default values of the parameter for regularization and then with cross-validation to fix the value of the parameter. For cross validation, use 5-fold cross validation and the default values of the regularization parameters for the function linear_model.LogisticRegressionCV(...)"
      ]
    },
    {
      "cell_type": "code",
      "source": [
        "from sklearn import linear_model\n",
        "from sklearn.model_selection import cross_val_score\n",
        "from sklearn.linear_model import LogisticRegressionCV\n",
        "\n",
        "# Create a logistic regression object\n",
        "lr = linear_model.LogisticRegression()\n",
        "\n",
        "# TODO: Fit the model on the training data\n",
        "# ADD CODE\n",
        "lr.fit(X_train,y_train)\n",
        "\n",
        "# Compute the training and test error for the logistic regression model\n",
        "cv_scores = cross_val_score(lr,X_train,y_train,cv=5)\n",
        "training_error =cv_scores.mean()\n",
        "test_error = 1 - lr.score(X_test, y_test)\n",
        "\n",
        "print(\"Best logistic regression training error: %f\" % training_error)\n",
        "print(\"Best logistic regression test error: %f\" % test_error)\n",
        "\n",
        "# Use logistic regression with 5-fold cross-validation\n",
        "# You can use linear_model.LogisticRegressionCV\n",
        "# Use 5-fold cross-validation to find the best choice of the parameter, then train\n",
        "# the model on the entire training set\n",
        "\n",
        "lr_cv =LogisticRegressionCV(cv=5)\n",
        "lr_cv.fit(X_train, y_train)\n",
        "best_param = lr_cv.C_[0]\n",
        "best_lr = LogisticRegressionCV(cv=5, Cs=[best_param])\n",
        "best_lr.fit(X_train,y_train)\n",
        "test_accuracy = best_lr.score(X_test, y_test)\n",
        "training_error_cv = 1 - lr_cv.score(X_train, y_train)\n",
        "test_error_cv= 1 - lr_cv.score(X_test, y_test)\n",
        "print(\"Best logistic regression training error: %f\" % training_error_cv)\n",
        "print(\"Best logistic regression test error: %f\" % test_error_cv)\n"
      ],
      "metadata": {
        "id": "lHBdJ76QtwDB",
        "colab": {
          "base_uri": "https://localhost:8080/"
        },
        "outputId": "fe9aded8-31fa-41f9-fde9-5f9104cdd748"
      },
      "execution_count": 32,
      "outputs": [
        {
          "output_type": "stream",
          "name": "stderr",
          "text": [
            "/usr/local/lib/python3.10/dist-packages/sklearn/linear_model/_logistic.py:458: ConvergenceWarning: lbfgs failed to converge (status=1):\n",
            "STOP: TOTAL NO. of ITERATIONS REACHED LIMIT.\n",
            "\n",
            "Increase the number of iterations (max_iter) or scale the data as shown in:\n",
            "    https://scikit-learn.org/stable/modules/preprocessing.html\n",
            "Please also refer to the documentation for alternative solver options:\n",
            "    https://scikit-learn.org/stable/modules/linear_model.html#logistic-regression\n",
            "  n_iter_i = _check_optimize_result(\n",
            "/usr/local/lib/python3.10/dist-packages/sklearn/linear_model/_logistic.py:458: ConvergenceWarning: lbfgs failed to converge (status=1):\n",
            "STOP: TOTAL NO. of ITERATIONS REACHED LIMIT.\n",
            "\n",
            "Increase the number of iterations (max_iter) or scale the data as shown in:\n",
            "    https://scikit-learn.org/stable/modules/preprocessing.html\n",
            "Please also refer to the documentation for alternative solver options:\n",
            "    https://scikit-learn.org/stable/modules/linear_model.html#logistic-regression\n",
            "  n_iter_i = _check_optimize_result(\n",
            "/usr/local/lib/python3.10/dist-packages/sklearn/linear_model/_logistic.py:458: ConvergenceWarning: lbfgs failed to converge (status=1):\n",
            "STOP: TOTAL NO. of ITERATIONS REACHED LIMIT.\n",
            "\n",
            "Increase the number of iterations (max_iter) or scale the data as shown in:\n",
            "    https://scikit-learn.org/stable/modules/preprocessing.html\n",
            "Please also refer to the documentation for alternative solver options:\n",
            "    https://scikit-learn.org/stable/modules/linear_model.html#logistic-regression\n",
            "  n_iter_i = _check_optimize_result(\n",
            "/usr/local/lib/python3.10/dist-packages/sklearn/linear_model/_logistic.py:458: ConvergenceWarning: lbfgs failed to converge (status=1):\n",
            "STOP: TOTAL NO. of ITERATIONS REACHED LIMIT.\n",
            "\n",
            "Increase the number of iterations (max_iter) or scale the data as shown in:\n",
            "    https://scikit-learn.org/stable/modules/preprocessing.html\n",
            "Please also refer to the documentation for alternative solver options:\n",
            "    https://scikit-learn.org/stable/modules/linear_model.html#logistic-regression\n",
            "  n_iter_i = _check_optimize_result(\n",
            "/usr/local/lib/python3.10/dist-packages/sklearn/linear_model/_logistic.py:458: ConvergenceWarning: lbfgs failed to converge (status=1):\n",
            "STOP: TOTAL NO. of ITERATIONS REACHED LIMIT.\n",
            "\n",
            "Increase the number of iterations (max_iter) or scale the data as shown in:\n",
            "    https://scikit-learn.org/stable/modules/preprocessing.html\n",
            "Please also refer to the documentation for alternative solver options:\n",
            "    https://scikit-learn.org/stable/modules/linear_model.html#logistic-regression\n",
            "  n_iter_i = _check_optimize_result(\n",
            "/usr/local/lib/python3.10/dist-packages/sklearn/linear_model/_logistic.py:458: ConvergenceWarning: lbfgs failed to converge (status=1):\n",
            "STOP: TOTAL NO. of ITERATIONS REACHED LIMIT.\n",
            "\n",
            "Increase the number of iterations (max_iter) or scale the data as shown in:\n",
            "    https://scikit-learn.org/stable/modules/preprocessing.html\n",
            "Please also refer to the documentation for alternative solver options:\n",
            "    https://scikit-learn.org/stable/modules/linear_model.html#logistic-regression\n",
            "  n_iter_i = _check_optimize_result(\n",
            "/usr/local/lib/python3.10/dist-packages/sklearn/linear_model/_logistic.py:458: ConvergenceWarning: lbfgs failed to converge (status=1):\n",
            "STOP: TOTAL NO. of ITERATIONS REACHED LIMIT.\n",
            "\n",
            "Increase the number of iterations (max_iter) or scale the data as shown in:\n",
            "    https://scikit-learn.org/stable/modules/preprocessing.html\n",
            "Please also refer to the documentation for alternative solver options:\n",
            "    https://scikit-learn.org/stable/modules/linear_model.html#logistic-regression\n",
            "  n_iter_i = _check_optimize_result(\n"
          ]
        },
        {
          "output_type": "stream",
          "name": "stdout",
          "text": [
            "Best logistic regression training error: 0.844000\n",
            "Best logistic regression test error: 0.155683\n"
          ]
        },
        {
          "output_type": "stream",
          "name": "stderr",
          "text": [
            "/usr/local/lib/python3.10/dist-packages/sklearn/linear_model/_logistic.py:458: ConvergenceWarning: lbfgs failed to converge (status=1):\n",
            "STOP: TOTAL NO. of ITERATIONS REACHED LIMIT.\n",
            "\n",
            "Increase the number of iterations (max_iter) or scale the data as shown in:\n",
            "    https://scikit-learn.org/stable/modules/preprocessing.html\n",
            "Please also refer to the documentation for alternative solver options:\n",
            "    https://scikit-learn.org/stable/modules/linear_model.html#logistic-regression\n",
            "  n_iter_i = _check_optimize_result(\n",
            "/usr/local/lib/python3.10/dist-packages/sklearn/linear_model/_logistic.py:458: ConvergenceWarning: lbfgs failed to converge (status=1):\n",
            "STOP: TOTAL NO. of ITERATIONS REACHED LIMIT.\n",
            "\n",
            "Increase the number of iterations (max_iter) or scale the data as shown in:\n",
            "    https://scikit-learn.org/stable/modules/preprocessing.html\n",
            "Please also refer to the documentation for alternative solver options:\n",
            "    https://scikit-learn.org/stable/modules/linear_model.html#logistic-regression\n",
            "  n_iter_i = _check_optimize_result(\n",
            "/usr/local/lib/python3.10/dist-packages/sklearn/linear_model/_logistic.py:458: ConvergenceWarning: lbfgs failed to converge (status=1):\n",
            "STOP: TOTAL NO. of ITERATIONS REACHED LIMIT.\n",
            "\n",
            "Increase the number of iterations (max_iter) or scale the data as shown in:\n",
            "    https://scikit-learn.org/stable/modules/preprocessing.html\n",
            "Please also refer to the documentation for alternative solver options:\n",
            "    https://scikit-learn.org/stable/modules/linear_model.html#logistic-regression\n",
            "  n_iter_i = _check_optimize_result(\n",
            "/usr/local/lib/python3.10/dist-packages/sklearn/linear_model/_logistic.py:458: ConvergenceWarning: lbfgs failed to converge (status=1):\n",
            "STOP: TOTAL NO. of ITERATIONS REACHED LIMIT.\n",
            "\n",
            "Increase the number of iterations (max_iter) or scale the data as shown in:\n",
            "    https://scikit-learn.org/stable/modules/preprocessing.html\n",
            "Please also refer to the documentation for alternative solver options:\n",
            "    https://scikit-learn.org/stable/modules/linear_model.html#logistic-regression\n",
            "  n_iter_i = _check_optimize_result(\n",
            "/usr/local/lib/python3.10/dist-packages/sklearn/linear_model/_logistic.py:458: ConvergenceWarning: lbfgs failed to converge (status=1):\n",
            "STOP: TOTAL NO. of ITERATIONS REACHED LIMIT.\n",
            "\n",
            "Increase the number of iterations (max_iter) or scale the data as shown in:\n",
            "    https://scikit-learn.org/stable/modules/preprocessing.html\n",
            "Please also refer to the documentation for alternative solver options:\n",
            "    https://scikit-learn.org/stable/modules/linear_model.html#logistic-regression\n",
            "  n_iter_i = _check_optimize_result(\n",
            "/usr/local/lib/python3.10/dist-packages/sklearn/linear_model/_logistic.py:458: ConvergenceWarning: lbfgs failed to converge (status=1):\n",
            "STOP: TOTAL NO. of ITERATIONS REACHED LIMIT.\n",
            "\n",
            "Increase the number of iterations (max_iter) or scale the data as shown in:\n",
            "    https://scikit-learn.org/stable/modules/preprocessing.html\n",
            "Please also refer to the documentation for alternative solver options:\n",
            "    https://scikit-learn.org/stable/modules/linear_model.html#logistic-regression\n",
            "  n_iter_i = _check_optimize_result(\n",
            "/usr/local/lib/python3.10/dist-packages/sklearn/linear_model/_logistic.py:458: ConvergenceWarning: lbfgs failed to converge (status=1):\n",
            "STOP: TOTAL NO. of ITERATIONS REACHED LIMIT.\n",
            "\n",
            "Increase the number of iterations (max_iter) or scale the data as shown in:\n",
            "    https://scikit-learn.org/stable/modules/preprocessing.html\n",
            "Please also refer to the documentation for alternative solver options:\n",
            "    https://scikit-learn.org/stable/modules/linear_model.html#logistic-regression\n",
            "  n_iter_i = _check_optimize_result(\n",
            "/usr/local/lib/python3.10/dist-packages/sklearn/linear_model/_logistic.py:458: ConvergenceWarning: lbfgs failed to converge (status=1):\n",
            "STOP: TOTAL NO. of ITERATIONS REACHED LIMIT.\n",
            "\n",
            "Increase the number of iterations (max_iter) or scale the data as shown in:\n",
            "    https://scikit-learn.org/stable/modules/preprocessing.html\n",
            "Please also refer to the documentation for alternative solver options:\n",
            "    https://scikit-learn.org/stable/modules/linear_model.html#logistic-regression\n",
            "  n_iter_i = _check_optimize_result(\n",
            "/usr/local/lib/python3.10/dist-packages/sklearn/linear_model/_logistic.py:458: ConvergenceWarning: lbfgs failed to converge (status=1):\n",
            "STOP: TOTAL NO. of ITERATIONS REACHED LIMIT.\n",
            "\n",
            "Increase the number of iterations (max_iter) or scale the data as shown in:\n",
            "    https://scikit-learn.org/stable/modules/preprocessing.html\n",
            "Please also refer to the documentation for alternative solver options:\n",
            "    https://scikit-learn.org/stable/modules/linear_model.html#logistic-regression\n",
            "  n_iter_i = _check_optimize_result(\n",
            "/usr/local/lib/python3.10/dist-packages/sklearn/linear_model/_logistic.py:458: ConvergenceWarning: lbfgs failed to converge (status=1):\n",
            "STOP: TOTAL NO. of ITERATIONS REACHED LIMIT.\n",
            "\n",
            "Increase the number of iterations (max_iter) or scale the data as shown in:\n",
            "    https://scikit-learn.org/stable/modules/preprocessing.html\n",
            "Please also refer to the documentation for alternative solver options:\n",
            "    https://scikit-learn.org/stable/modules/linear_model.html#logistic-regression\n",
            "  n_iter_i = _check_optimize_result(\n",
            "/usr/local/lib/python3.10/dist-packages/sklearn/linear_model/_logistic.py:458: ConvergenceWarning: lbfgs failed to converge (status=1):\n",
            "STOP: TOTAL NO. of ITERATIONS REACHED LIMIT.\n",
            "\n",
            "Increase the number of iterations (max_iter) or scale the data as shown in:\n",
            "    https://scikit-learn.org/stable/modules/preprocessing.html\n",
            "Please also refer to the documentation for alternative solver options:\n",
            "    https://scikit-learn.org/stable/modules/linear_model.html#logistic-regression\n",
            "  n_iter_i = _check_optimize_result(\n",
            "/usr/local/lib/python3.10/dist-packages/sklearn/linear_model/_logistic.py:458: ConvergenceWarning: lbfgs failed to converge (status=1):\n",
            "STOP: TOTAL NO. of ITERATIONS REACHED LIMIT.\n",
            "\n",
            "Increase the number of iterations (max_iter) or scale the data as shown in:\n",
            "    https://scikit-learn.org/stable/modules/preprocessing.html\n",
            "Please also refer to the documentation for alternative solver options:\n",
            "    https://scikit-learn.org/stable/modules/linear_model.html#logistic-regression\n",
            "  n_iter_i = _check_optimize_result(\n",
            "/usr/local/lib/python3.10/dist-packages/sklearn/linear_model/_logistic.py:458: ConvergenceWarning: lbfgs failed to converge (status=1):\n",
            "STOP: TOTAL NO. of ITERATIONS REACHED LIMIT.\n",
            "\n",
            "Increase the number of iterations (max_iter) or scale the data as shown in:\n",
            "    https://scikit-learn.org/stable/modules/preprocessing.html\n",
            "Please also refer to the documentation for alternative solver options:\n",
            "    https://scikit-learn.org/stable/modules/linear_model.html#logistic-regression\n",
            "  n_iter_i = _check_optimize_result(\n",
            "/usr/local/lib/python3.10/dist-packages/sklearn/linear_model/_logistic.py:458: ConvergenceWarning: lbfgs failed to converge (status=1):\n",
            "STOP: TOTAL NO. of ITERATIONS REACHED LIMIT.\n",
            "\n",
            "Increase the number of iterations (max_iter) or scale the data as shown in:\n",
            "    https://scikit-learn.org/stable/modules/preprocessing.html\n",
            "Please also refer to the documentation for alternative solver options:\n",
            "    https://scikit-learn.org/stable/modules/linear_model.html#logistic-regression\n",
            "  n_iter_i = _check_optimize_result(\n"
          ]
        },
        {
          "output_type": "stream",
          "name": "stdout",
          "text": [
            "Best logistic regression training error: 0.000000\n",
            "Best logistic regression test error: 0.156777\n"
          ]
        }
      ]
    },
    {
      "cell_type": "markdown",
      "metadata": {
        "id": "D1zBeUFYnXg8"
      },
      "source": [
        "## Section 4\n",
        "Compare and comment the results from SVM and logistic regression."
      ]
    },
    {
      "cell_type": "markdown",
      "source": [
        "both Best logistic regression training error and Best SVM training error are equal to zero but Best SVM test error( 0.133986) is less than\n",
        "Best logistic regression test error(0.156777).\n",
        "it seems that SVM is better than logistic regression in this case."
      ],
      "metadata": {
        "id": "EFYcc0LiNJeq"
      }
    },
    {
      "cell_type": "markdown",
      "metadata": {
        "id": "tjEGnvoynXg8"
      },
      "source": [
        "## Section 5\n",
        "Write the code that finds and plots a digit that is missclassified by logistic regression (optimized for the regularization parameter) and correctly classified by the \"best\" SVM."
      ]
    },
    {
      "cell_type": "code",
      "execution_count": 39,
      "metadata": {
        "id": "md8_fNFxnXg8",
        "colab": {
          "base_uri": "https://localhost:8080/",
          "height": 356
        },
        "outputId": "a38a63e3-c247-4561-8c40-83ad64029610"
      },
      "outputs": [
        {
          "output_type": "display_data",
          "data": {
            "text/plain": [
              "<Figure size 640x480 with 2 Axes>"
            ],
            "image/png": "[encoded data removed]"
          },
          "metadata": {}
        }
      ],
      "source": [
        "# ADD CODE\n",
        "y_pred_lr = best_lr.predict(X_test)\n",
        "misclassified_i = [i for i in range(len(y_test)) if y_test[i] != y_pred_lr[i]]\n",
        "misclassified_di = misclassified_i[0]\n",
        "misclassified_dim = X_test[misclassified_di].reshape(28, 28)\n",
        "\n",
        "# Find correctly classified digit by optimized SVM\n",
        "y_pred_svm = best_SVM.predict(X_test)\n",
        "correctly_i = [i for i in range(len(y_test)) if y_test[i] == y_pred_svm[i]]\n",
        "correctly_di = correctly_i[0]\n",
        "correctly_dim = X_test[correctly_di].reshape(28, 28)\n",
        "\n",
        "# Plot the misclassified and correctly classified digits\n",
        "plt.subplot(1, 2, 1)\n",
        "plt.imshow(misclassified_dim, cmap='gray')\n",
        "plt.title('Misclassified Digit (Logistic Regression)')\n",
        "plt.axis('off')\n",
        "\n",
        "plt.subplot(1, 2, 2)\n",
        "plt.imshow(correctly_dim, cmap='gray')\n",
        "plt.title('Correctly Classified Digit (SVM)')\n",
        "plt.axis('off')\n",
        "\n",
        "plt.tight_layout()\n",
        "plt.show()"
      ]
    },
    {
      "cell_type": "markdown",
      "metadata": {
        "id": "xrWB8rZvnXg9"
      },
      "source": [
        "## More data\n",
        "Now let's do the same but using 1000 data points for training.\n",
        "\n",
        "## Section 6\n",
        "Repeat the entire analysis above using 1000 samples. Of course you can copy the code from above."
      ]
    },
    {
      "cell_type": "code",
      "source": [
        "permutation = np.random.permutation(X.shape[0])\n",
        "\n",
        "X = X[permutation]\n",
        "y = y[permutation]\n",
        "\n",
        "m_training = 1000\n",
        "\n",
        "X_train1, X_test1 = X[:m_training], X[m_training:]\n",
        "y_train1, y_test1 = y[:m_training], y[m_training:]"
      ],
      "metadata": {
        "id": "YTtocqWbppuJ"
      },
      "execution_count": 40,
      "outputs": []
    },
    {
      "cell_type": "code",
      "source": [
        "from sklearn.svm import SVC\n",
        "from sklearn.model_selection import GridSearchCV\n",
        "\n",
        "# Set the parameters for the linear SVM\n",
        "parameters = {'C': [1, 10, 100]}\n",
        "\n",
        "# Create a linear SVM object\n",
        "linear_SVM = SVC(kernel='linear')\n",
        "\n",
        "# TO DO: Find the best model using 5-fold cross-validation and train it using all the training data\n",
        "grid_search = GridSearchCV(linear_SVM,parameters, cv=5)\n",
        "grid_search.fit(X_train1, y_train1)\n",
        "best_svm_classifier = grid_search.best_estimator_\n",
        "best_svm_classifier.fit(X, y)\n",
        "predicted= best_svm_classifier.predict(X_test1)\n",
        "accuracy = metrics.accuracy_score(y_test1,predicted)\n",
        "# Print the results for the linear kernel\n",
        "print('RESULTS FOR LINEAR KERNEL\\n')\n",
        "print(\"accuracy:\", accuracy)\n",
        "print(\"Best parameters set found:\")\n",
        "# TO DO\n",
        "print(grid_search.best_params_)\n",
        "print(\"Score with best parameters:\")\n",
        "# TO DO\n",
        "print(grid_search.best_score_)\n",
        "print(\"\\nAll scores on the grid:\")\n",
        "# TO DO\n",
        "means = grid_search.cv_results_['mean_test_score']\n",
        "stds = grid_search.cv_results_['std_test_score']\n",
        "for mean, std, params in zip(means, stds, grid_search.cv_results_['params']):\n",
        "    print(f\"Mean: {mean}, Std: {std}, Parameters: {params}\")\n",
        "\n",
        "\n",
        "# Set the parameters for the polynomial kernel with degree 2\n",
        "parameters = {'C': [1, 10, 100], 'gamma': [0.01, 0.1, 1.]}\n",
        "# Create a polynomial kernel with degree 2 SVM object\n",
        "poly2_SVM = SVC(kernel='poly', degree=2)\n",
        "\n",
        "# TO DO: Find the best model using 5-fold cross-validation and train it using all the training data\n",
        "grid_search = GridSearchCV(poly2_SVM,parameters, cv=5)\n",
        "grid_search.fit(X_train1, y_train1)\n",
        "best_svm_classifier = grid_search.best_estimator_\n",
        "best_svm_classifier.fit(X, y)\n",
        "predicted= best_svm_classifier.predict(X_test1)\n",
        "accuracy = metrics.accuracy_score(y_test1,predicted)\n",
        "\n",
        "# Print the results for the polynomial kernel with degree 2\n",
        "print('\\nRESULTS FOR POLY DEGREE=2 KERNEL\\n')\n",
        "print(\"accuracy:\", accuracy)\n",
        "print(\"Best parameters set found:\")\n",
        "# TO DO\n",
        "print(grid_search.best_params_)\n",
        "print(\"Score with best parameters:\")\n",
        "# TO DO\n",
        "print(grid_search.best_score_)\n",
        "print(\"\\nAll scores on the grid:\")\n",
        "# TO DO\n",
        "means = grid_search.cv_results_['mean_test_score']\n",
        "stds = grid_search.cv_results_['std_test_score']\n",
        "for mean, std, params in zip(means, stds, grid_search.cv_results_['params']):\n",
        "    print(f\"Mean: {mean}, Std: {std}, Parameters: {params}\")\n",
        "\n",
        "\n",
        "# Set the parameters for the RBF kernel\n",
        "parameters = {'C': [1, 10, 100], 'gamma': [0.01, 0.1, 1.]}\n",
        "\n",
        "# Create an RBF kernel SVM object\n",
        "rbf_SVM = SVC(kernel='rbf')\n",
        "\n",
        "# TO DO: Find the best model using 5-fold cross-validation and train it using all the training data\n",
        "grid_search = GridSearchCV(rbf_SVM,parameters, cv=5)\n",
        "grid_search.fit(X_train1, y_train1)\n",
        "best_svm_classifier = grid_search.best_estimator_\n",
        "best_svm_classifier.fit(X, y)\n",
        "predicted= best_svm_classifier.predict(X_test1)\n",
        "accuracy = metrics.accuracy_score(y_test1,predicted)\n",
        "\n",
        "# Print the results for the RBF kernel\n",
        "print('\\nRESULTS FOR RBF KERNEL\\n')\n",
        "print(\"accuracy:\", accuracy)\n",
        "print(\"Best parameters set found:\")\n",
        "# TO DO\n",
        "print(grid_search.best_params_)\n",
        "print(\"Score with best parameters:\")\n",
        "# TO DO\n",
        "print(grid_search.best_score_)\n",
        "print(\"\\nAll scores on the grid:\")\n",
        "# TO DO\n",
        "means = grid_search.cv_results_['mean_test_score']\n",
        "stds = grid_search.cv_results_['std_test_score']\n",
        "for mean, std, params in zip(means, stds, grid_search.cv_results_['params']):\n",
        "    print(f\"Mean: {mean}, Std: {std}, Parameters: {params}\")\n"
      ],
      "metadata": {
        "colab": {
          "base_uri": "https://localhost:8080/"
        },
        "id": "3_KPZAsU0T3f",
        "outputId": "b65b3687-262a-464a-e049-e73778cb2060"
      },
      "execution_count": 41,
      "outputs": [
        {
          "output_type": "stream",
          "name": "stdout",
          "text": [
            "RESULTS FOR LINEAR KERNEL\n",
            "\n",
            "accuracy: 0.9691739130434782\n",
            "Best parameters set found:\n",
            "{'C': 1}\n",
            "Score with best parameters:\n",
            "0.876\n",
            "\n",
            "All scores on the grid:\n",
            "Mean: 0.876, Std: 0.015937377450509244, Parameters: {'C': 1}\n",
            "Mean: 0.876, Std: 0.015937377450509244, Parameters: {'C': 10}\n",
            "Mean: 0.876, Std: 0.015937377450509244, Parameters: {'C': 100}\n",
            "\n",
            "RESULTS FOR POLY DEGREE=2 KERNEL\n",
            "\n",
            "accuracy: 1.0\n",
            "Best parameters set found:\n",
            "{'C': 1, 'gamma': 0.1}\n",
            "Score with best parameters:\n",
            "0.898\n",
            "\n",
            "All scores on the grid:\n",
            "Mean: 0.8850000000000001, Std: 0.016431676725154998, Parameters: {'C': 1, 'gamma': 0.01}\n",
            "Mean: 0.898, Std: 0.017492855684535916, Parameters: {'C': 1, 'gamma': 0.1}\n",
            "Mean: 0.898, Std: 0.017492855684535916, Parameters: {'C': 1, 'gamma': 1.0}\n",
            "Mean: 0.8959999999999999, Std: 0.014282856857085711, Parameters: {'C': 10, 'gamma': 0.01}\n",
            "Mean: 0.898, Std: 0.017492855684535916, Parameters: {'C': 10, 'gamma': 0.1}\n",
            "Mean: 0.898, Std: 0.017492855684535916, Parameters: {'C': 10, 'gamma': 1.0}\n",
            "Mean: 0.898, Std: 0.017492855684535916, Parameters: {'C': 100, 'gamma': 0.01}\n",
            "Mean: 0.898, Std: 0.017492855684535916, Parameters: {'C': 100, 'gamma': 0.1}\n",
            "Mean: 0.898, Std: 0.017492855684535916, Parameters: {'C': 100, 'gamma': 1.0}\n",
            "\n",
            "RESULTS FOR RBF KERNEL\n",
            "\n",
            "accuracy: 0.9995072463768115\n",
            "Best parameters set found:\n",
            "{'C': 10, 'gamma': 0.01}\n",
            "Score with best parameters:\n",
            "0.921\n",
            "\n",
            "All scores on the grid:\n",
            "Mean: 0.915, Std: 0.01341640786499871, Parameters: {'C': 1, 'gamma': 0.01}\n",
            "Mean: 0.577, Std: 0.0273130005674953, Parameters: {'C': 1, 'gamma': 0.1}\n",
            "Mean: 0.12, Std: 0.0, Parameters: {'C': 1, 'gamma': 1.0}\n",
            "Mean: 0.921, Std: 0.023108440016582656, Parameters: {'C': 10, 'gamma': 0.01}\n",
            "Mean: 0.617, Std: 0.025806975801127903, Parameters: {'C': 10, 'gamma': 0.1}\n",
            "Mean: 0.12, Std: 0.0, Parameters: {'C': 10, 'gamma': 1.0}\n",
            "Mean: 0.921, Std: 0.023108440016582656, Parameters: {'C': 100, 'gamma': 0.01}\n",
            "Mean: 0.617, Std: 0.025806975801127903, Parameters: {'C': 100, 'gamma': 0.1}\n",
            "Mean: 0.12, Std: 0.0, Parameters: {'C': 100, 'gamma': 1.0}\n"
          ]
        }
      ]
    },
    {
      "cell_type": "code",
      "source": [
        "# Get the best SVM model from cross-validation\n",
        "# TO DO\n",
        "best_SVM=SVC(kernel='poly', degree=2)\n",
        "parameters = {'C': 1.0, 'gamma': 0.1}\n",
        "best_SVM.set_params(**parameters)\n",
        "# Fit the model on the entire training set\n",
        "best_SVM.fit(X_train1, y_train1)\n",
        "\n",
        "# Get the training and test error\n",
        "training_error = 1. - best_SVM.score(X_train1, y_train1)\n",
        "test_error = 1. - best_SVM.score(X_test1, y_test1)\n",
        "\n",
        "# Print the training and test error for the best SVM model\n",
        "print(\"Best SVM training error: %f\" % training_error)\n",
        "print(\"Best SVM test error: %f\" % test_error)"
      ],
      "metadata": {
        "colab": {
          "base_uri": "https://localhost:8080/"
        },
        "id": "eD8pM-xI1IT1",
        "outputId": "188d8dc6-9091-428f-94b1-63fc68ca4a76"
      },
      "execution_count": 42,
      "outputs": [
        {
          "output_type": "stream",
          "name": "stdout",
          "text": [
            "Best SVM training error: 0.000000\n",
            "Best SVM test error: 0.092217\n"
          ]
        }
      ]
    },
    {
      "cell_type": "code",
      "source": [
        "from sklearn import linear_model\n",
        "from sklearn.model_selection import cross_val_score\n",
        "from sklearn.linear_model import LogisticRegressionCV\n",
        "\n",
        "# Create a logistic regression object\n",
        "lr = linear_model.LogisticRegression()\n",
        "\n",
        "# TODO: Fit the model on the training data\n",
        "# ADD CODE\n",
        "lr.fit(X_train1,y_train1)\n",
        "\n",
        "# Compute the training and test error for the logistic regression model\n",
        "cv_scores = cross_val_score(lr,X_train1,y_train1,cv=5)\n",
        "training_error =cv_scores.mean()\n",
        "test_error = 1 - lr.score(X_test1, y_test1)\n",
        "\n",
        "print(\"Best logistic regression training error: %f\" % training_error)\n",
        "print(\"Best logistic regression test error: %f\" % test_error)\n",
        "\n",
        "# Use logistic regression with 5-fold cross-validation\n",
        "# You can use linear_model.LogisticRegressionCV\n",
        "# Use 5-fold cross-validation to find the best choice of the parameter, then train\n",
        "# the model on the entire training set\n",
        "\n",
        "lr_cv =LogisticRegressionCV(cv=5)\n",
        "lr_cv.fit(X_train1, y_train1)\n",
        "best_param = lr_cv.C_[0]\n",
        "best_lr = LogisticRegressionCV(cv=5, Cs=[best_param])\n",
        "best_lr.fit(X_train1,y_train1)\n",
        "test_accuracy = best_lr.score(X_test1, y_test1)\n",
        "training_error_cv = 1 - lr_cv.score(X_train1, y_train1)\n",
        "test_error_cv= 1 - lr_cv.score(X_test1, y_test1)\n",
        "print(\"Best logistic regression training error: %f\" % training_error_cv)\n",
        "print(\"Best logistic regression test error: %f\" % test_error_cv)\n"
      ],
      "metadata": {
        "colab": {
          "base_uri": "https://localhost:8080/"
        },
        "id": "ZIrUP98K1RvE",
        "outputId": "d19eb80b-d2d9-4bf2-fa85-a6b977fb3664"
      },
      "execution_count": 44,
      "outputs": [
        {
          "output_type": "stream",
          "name": "stderr",
          "text": [
            "/usr/local/lib/python3.10/dist-packages/sklearn/linear_model/_logistic.py:458: ConvergenceWarning: lbfgs failed to converge (status=1):\n",
            "STOP: TOTAL NO. of ITERATIONS REACHED LIMIT.\n",
            "\n",
            "Increase the number of iterations (max_iter) or scale the data as shown in:\n",
            "    https://scikit-learn.org/stable/modules/preprocessing.html\n",
            "Please also refer to the documentation for alternative solver options:\n",
            "    https://scikit-learn.org/stable/modules/linear_model.html#logistic-regression\n",
            "  n_iter_i = _check_optimize_result(\n",
            "/usr/local/lib/python3.10/dist-packages/sklearn/linear_model/_logistic.py:458: ConvergenceWarning: lbfgs failed to converge (status=1):\n",
            "STOP: TOTAL NO. of ITERATIONS REACHED LIMIT.\n",
            "\n",
            "Increase the number of iterations (max_iter) or scale the data as shown in:\n",
            "    https://scikit-learn.org/stable/modules/preprocessing.html\n",
            "Please also refer to the documentation for alternative solver options:\n",
            "    https://scikit-learn.org/stable/modules/linear_model.html#logistic-regression\n",
            "  n_iter_i = _check_optimize_result(\n",
            "/usr/local/lib/python3.10/dist-packages/sklearn/linear_model/_logistic.py:458: ConvergenceWarning: lbfgs failed to converge (status=1):\n",
            "STOP: TOTAL NO. of ITERATIONS REACHED LIMIT.\n",
            "\n",
            "Increase the number of iterations (max_iter) or scale the data as shown in:\n",
            "    https://scikit-learn.org/stable/modules/preprocessing.html\n",
            "Please also refer to the documentation for alternative solver options:\n",
            "    https://scikit-learn.org/stable/modules/linear_model.html#logistic-regression\n",
            "  n_iter_i = _check_optimize_result(\n",
            "/usr/local/lib/python3.10/dist-packages/sklearn/linear_model/_logistic.py:458: ConvergenceWarning: lbfgs failed to converge (status=1):\n",
            "STOP: TOTAL NO. of ITERATIONS REACHED LIMIT.\n",
            "\n",
            "Increase the number of iterations (max_iter) or scale the data as shown in:\n",
            "    https://scikit-learn.org/stable/modules/preprocessing.html\n",
            "Please also refer to the documentation for alternative solver options:\n",
            "    https://scikit-learn.org/stable/modules/linear_model.html#logistic-regression\n",
            "  n_iter_i = _check_optimize_result(\n",
            "/usr/local/lib/python3.10/dist-packages/sklearn/linear_model/_logistic.py:458: ConvergenceWarning: lbfgs failed to converge (status=1):\n",
            "STOP: TOTAL NO. of ITERATIONS REACHED LIMIT.\n",
            "\n",
            "Increase the number of iterations (max_iter) or scale the data as shown in:\n",
            "    https://scikit-learn.org/stable/modules/preprocessing.html\n",
            "Please also refer to the documentation for alternative solver options:\n",
            "    https://scikit-learn.org/stable/modules/linear_model.html#logistic-regression\n",
            "  n_iter_i = _check_optimize_result(\n",
            "/usr/local/lib/python3.10/dist-packages/sklearn/linear_model/_logistic.py:458: ConvergenceWarning: lbfgs failed to converge (status=1):\n",
            "STOP: TOTAL NO. of ITERATIONS REACHED LIMIT.\n",
            "\n",
            "Increase the number of iterations (max_iter) or scale the data as shown in:\n",
            "    https://scikit-learn.org/stable/modules/preprocessing.html\n",
            "Please also refer to the documentation for alternative solver options:\n",
            "    https://scikit-learn.org/stable/modules/linear_model.html#logistic-regression\n",
            "  n_iter_i = _check_optimize_result(\n"
          ]
        },
        {
          "output_type": "stream",
          "name": "stdout",
          "text": [
            "Best logistic regression training error: 0.874000\n",
            "Best logistic regression test error: 0.133377\n"
          ]
        },
        {
          "output_type": "stream",
          "name": "stderr",
          "text": [
            "/usr/local/lib/python3.10/dist-packages/sklearn/linear_model/_logistic.py:458: ConvergenceWarning: lbfgs failed to converge (status=1):\n",
            "STOP: TOTAL NO. of ITERATIONS REACHED LIMIT.\n",
            "\n",
            "Increase the number of iterations (max_iter) or scale the data as shown in:\n",
            "    https://scikit-learn.org/stable/modules/preprocessing.html\n",
            "Please also refer to the documentation for alternative solver options:\n",
            "    https://scikit-learn.org/stable/modules/linear_model.html#logistic-regression\n",
            "  n_iter_i = _check_optimize_result(\n",
            "/usr/local/lib/python3.10/dist-packages/sklearn/linear_model/_logistic.py:458: ConvergenceWarning: lbfgs failed to converge (status=1):\n",
            "STOP: TOTAL NO. of ITERATIONS REACHED LIMIT.\n",
            "\n",
            "Increase the number of iterations (max_iter) or scale the data as shown in:\n",
            "    https://scikit-learn.org/stable/modules/preprocessing.html\n",
            "Please also refer to the documentation for alternative solver options:\n",
            "    https://scikit-learn.org/stable/modules/linear_model.html#logistic-regression\n",
            "  n_iter_i = _check_optimize_result(\n",
            "/usr/local/lib/python3.10/dist-packages/sklearn/linear_model/_logistic.py:458: ConvergenceWarning: lbfgs failed to converge (status=1):\n",
            "STOP: TOTAL NO. of ITERATIONS REACHED LIMIT.\n",
            "\n",
            "Increase the number of iterations (max_iter) or scale the data as shown in:\n",
            "    https://scikit-learn.org/stable/modules/preprocessing.html\n",
            "Please also refer to the documentation for alternative solver options:\n",
            "    https://scikit-learn.org/stable/modules/linear_model.html#logistic-regression\n",
            "  n_iter_i = _check_optimize_result(\n",
            "/usr/local/lib/python3.10/dist-packages/sklearn/linear_model/_logistic.py:458: ConvergenceWarning: lbfgs failed to converge (status=1):\n",
            "STOP: TOTAL NO. of ITERATIONS REACHED LIMIT.\n",
            "\n",
            "Increase the number of iterations (max_iter) or scale the data as shown in:\n",
            "    https://scikit-learn.org/stable/modules/preprocessing.html\n",
            "Please also refer to the documentation for alternative solver options:\n",
            "    https://scikit-learn.org/stable/modules/linear_model.html#logistic-regression\n",
            "  n_iter_i = _check_optimize_result(\n",
            "/usr/local/lib/python3.10/dist-packages/sklearn/linear_model/_logistic.py:458: ConvergenceWarning: lbfgs failed to converge (status=1):\n",
            "STOP: TOTAL NO. of ITERATIONS REACHED LIMIT.\n",
            "\n",
            "Increase the number of iterations (max_iter) or scale the data as shown in:\n",
            "    https://scikit-learn.org/stable/modules/preprocessing.html\n",
            "Please also refer to the documentation for alternative solver options:\n",
            "    https://scikit-learn.org/stable/modules/linear_model.html#logistic-regression\n",
            "  n_iter_i = _check_optimize_result(\n",
            "/usr/local/lib/python3.10/dist-packages/sklearn/linear_model/_logistic.py:458: ConvergenceWarning: lbfgs failed to converge (status=1):\n",
            "STOP: TOTAL NO. of ITERATIONS REACHED LIMIT.\n",
            "\n",
            "Increase the number of iterations (max_iter) or scale the data as shown in:\n",
            "    https://scikit-learn.org/stable/modules/preprocessing.html\n",
            "Please also refer to the documentation for alternative solver options:\n",
            "    https://scikit-learn.org/stable/modules/linear_model.html#logistic-regression\n",
            "  n_iter_i = _check_optimize_result(\n",
            "/usr/local/lib/python3.10/dist-packages/sklearn/linear_model/_logistic.py:458: ConvergenceWarning: lbfgs failed to converge (status=1):\n",
            "STOP: TOTAL NO. of ITERATIONS REACHED LIMIT.\n",
            "\n",
            "Increase the number of iterations (max_iter) or scale the data as shown in:\n",
            "    https://scikit-learn.org/stable/modules/preprocessing.html\n",
            "Please also refer to the documentation for alternative solver options:\n",
            "    https://scikit-learn.org/stable/modules/linear_model.html#logistic-regression\n",
            "  n_iter_i = _check_optimize_result(\n",
            "/usr/local/lib/python3.10/dist-packages/sklearn/linear_model/_logistic.py:458: ConvergenceWarning: lbfgs failed to converge (status=1):\n",
            "STOP: TOTAL NO. of ITERATIONS REACHED LIMIT.\n",
            "\n",
            "Increase the number of iterations (max_iter) or scale the data as shown in:\n",
            "    https://scikit-learn.org/stable/modules/preprocessing.html\n",
            "Please also refer to the documentation for alternative solver options:\n",
            "    https://scikit-learn.org/stable/modules/linear_model.html#logistic-regression\n",
            "  n_iter_i = _check_optimize_result(\n",
            "/usr/local/lib/python3.10/dist-packages/sklearn/linear_model/_logistic.py:458: ConvergenceWarning: lbfgs failed to converge (status=1):\n",
            "STOP: TOTAL NO. of ITERATIONS REACHED LIMIT.\n",
            "\n",
            "Increase the number of iterations (max_iter) or scale the data as shown in:\n",
            "    https://scikit-learn.org/stable/modules/preprocessing.html\n",
            "Please also refer to the documentation for alternative solver options:\n",
            "    https://scikit-learn.org/stable/modules/linear_model.html#logistic-regression\n",
            "  n_iter_i = _check_optimize_result(\n",
            "/usr/local/lib/python3.10/dist-packages/sklearn/linear_model/_logistic.py:458: ConvergenceWarning: lbfgs failed to converge (status=1):\n",
            "STOP: TOTAL NO. of ITERATIONS REACHED LIMIT.\n",
            "\n",
            "Increase the number of iterations (max_iter) or scale the data as shown in:\n",
            "    https://scikit-learn.org/stable/modules/preprocessing.html\n",
            "Please also refer to the documentation for alternative solver options:\n",
            "    https://scikit-learn.org/stable/modules/linear_model.html#logistic-regression\n",
            "  n_iter_i = _check_optimize_result(\n",
            "/usr/local/lib/python3.10/dist-packages/sklearn/linear_model/_logistic.py:458: ConvergenceWarning: lbfgs failed to converge (status=1):\n",
            "STOP: TOTAL NO. of ITERATIONS REACHED LIMIT.\n",
            "\n",
            "Increase the number of iterations (max_iter) or scale the data as shown in:\n",
            "    https://scikit-learn.org/stable/modules/preprocessing.html\n",
            "Please also refer to the documentation for alternative solver options:\n",
            "    https://scikit-learn.org/stable/modules/linear_model.html#logistic-regression\n",
            "  n_iter_i = _check_optimize_result(\n",
            "/usr/local/lib/python3.10/dist-packages/sklearn/linear_model/_logistic.py:458: ConvergenceWarning: lbfgs failed to converge (status=1):\n",
            "STOP: TOTAL NO. of ITERATIONS REACHED LIMIT.\n",
            "\n",
            "Increase the number of iterations (max_iter) or scale the data as shown in:\n",
            "    https://scikit-learn.org/stable/modules/preprocessing.html\n",
            "Please also refer to the documentation for alternative solver options:\n",
            "    https://scikit-learn.org/stable/modules/linear_model.html#logistic-regression\n",
            "  n_iter_i = _check_optimize_result(\n",
            "/usr/local/lib/python3.10/dist-packages/sklearn/linear_model/_logistic.py:458: ConvergenceWarning: lbfgs failed to converge (status=1):\n",
            "STOP: TOTAL NO. of ITERATIONS REACHED LIMIT.\n",
            "\n",
            "Increase the number of iterations (max_iter) or scale the data as shown in:\n",
            "    https://scikit-learn.org/stable/modules/preprocessing.html\n",
            "Please also refer to the documentation for alternative solver options:\n",
            "    https://scikit-learn.org/stable/modules/linear_model.html#logistic-regression\n",
            "  n_iter_i = _check_optimize_result(\n",
            "/usr/local/lib/python3.10/dist-packages/sklearn/linear_model/_logistic.py:458: ConvergenceWarning: lbfgs failed to converge (status=1):\n",
            "STOP: TOTAL NO. of ITERATIONS REACHED LIMIT.\n",
            "\n",
            "Increase the number of iterations (max_iter) or scale the data as shown in:\n",
            "    https://scikit-learn.org/stable/modules/preprocessing.html\n",
            "Please also refer to the documentation for alternative solver options:\n",
            "    https://scikit-learn.org/stable/modules/linear_model.html#logistic-regression\n",
            "  n_iter_i = _check_optimize_result(\n",
            "/usr/local/lib/python3.10/dist-packages/sklearn/linear_model/_logistic.py:458: ConvergenceWarning: lbfgs failed to converge (status=1):\n",
            "STOP: TOTAL NO. of ITERATIONS REACHED LIMIT.\n",
            "\n",
            "Increase the number of iterations (max_iter) or scale the data as shown in:\n",
            "    https://scikit-learn.org/stable/modules/preprocessing.html\n",
            "Please also refer to the documentation for alternative solver options:\n",
            "    https://scikit-learn.org/stable/modules/linear_model.html#logistic-regression\n",
            "  n_iter_i = _check_optimize_result(\n",
            "/usr/local/lib/python3.10/dist-packages/sklearn/linear_model/_logistic.py:458: ConvergenceWarning: lbfgs failed to converge (status=1):\n",
            "STOP: TOTAL NO. of ITERATIONS REACHED LIMIT.\n",
            "\n",
            "Increase the number of iterations (max_iter) or scale the data as shown in:\n",
            "    https://scikit-learn.org/stable/modules/preprocessing.html\n",
            "Please also refer to the documentation for alternative solver options:\n",
            "    https://scikit-learn.org/stable/modules/linear_model.html#logistic-regression\n",
            "  n_iter_i = _check_optimize_result(\n",
            "/usr/local/lib/python3.10/dist-packages/sklearn/linear_model/_logistic.py:458: ConvergenceWarning: lbfgs failed to converge (status=1):\n",
            "STOP: TOTAL NO. of ITERATIONS REACHED LIMIT.\n",
            "\n",
            "Increase the number of iterations (max_iter) or scale the data as shown in:\n",
            "    https://scikit-learn.org/stable/modules/preprocessing.html\n",
            "Please also refer to the documentation for alternative solver options:\n",
            "    https://scikit-learn.org/stable/modules/linear_model.html#logistic-regression\n",
            "  n_iter_i = _check_optimize_result(\n"
          ]
        },
        {
          "output_type": "stream",
          "name": "stdout",
          "text": [
            "Best logistic regression training error: 0.042000\n",
            "Best logistic regression test error: 0.132029\n"
          ]
        }
      ]
    },
    {
      "cell_type": "code",
      "source": [
        "y_pred_lr = best_lr.predict(X_test1)\n",
        "misclassified_i = [i for i in range(len(y_test1)) if y_test1[i] != y_pred_lr[i]]\n",
        "misclassified_di = misclassified_i[0]\n",
        "misclassified_dim = X_test1[misclassified_di].reshape(28, 28)\n",
        "\n",
        "# Find correctly classified digit by optimized SVM\n",
        "y_pred_svm = best_SVM.predict(X_test1)\n",
        "correctly_i = [i for i in range(len(y_test1)) if y_test1[i] == y_pred_svm[i]]\n",
        "correctly_di = correctly_i[0]\n",
        "correctly_dim = X_test1[correctly_di].reshape(28,28)\n",
        "\n",
        "# Plot the misclassified and correctly classified digits\n",
        "plt.subplot(1, 2, 1)\n",
        "plt.imshow(misclassified_dim, cmap='gray')\n",
        "plt.title('Misclassified Digit (Logistic Regression)')\n",
        "plt.axis('off')\n",
        "\n",
        "plt.subplot(1, 2, 2)\n",
        "plt.imshow(correctly_dim, cmap='gray')\n",
        "plt.title('Correctly Classified Digit (SVM)')\n",
        "plt.axis('off')\n",
        "\n",
        "plt.tight_layout()\n",
        "plt.show()"
      ],
      "metadata": {
        "colab": {
          "base_uri": "https://localhost:8080/",
          "height": 356
        },
        "id": "8Y0lAtba2Jou",
        "outputId": "93f46a78-d9b1-478d-ef3b-3ceee3ce4619"
      },
      "execution_count": 46,
      "outputs": [
        {
          "output_type": "display_data",
          "data": {
            "text/plain": [
              "<Figure size 640x480 with 2 Axes>"
            ],
            "image/png": "[encoded data removed]"
          },
          "metadata": {}
        }
      ]
    },
    {
      "cell_type": "markdown",
      "metadata": {
        "id": "0gkWCjdVnXg9"
      },
      "source": [
        "## Section 7\n",
        "Compare and comment on the differences with the results above."
      ]
    },
    {
      "cell_type": "markdown",
      "source": [
        "here we have:Best SVM training error = 0.000000 , Best SVM test error=0.092217 , Best logistic regression training error=0.042000 and Best logistic regression test error= 0.132029.\n",
        "By increasing the number of samples, the error on the training data in the logistic regression is increased but error on the test data both in svm and logistic regression is reduced.again error on the test data in svm is less than logistic regression so svm is better in this case"
      ],
      "metadata": {
        "id": "XLerwwlUJNTW"
      }
    }
  ],
  "metadata": {
    "kernelspec": {
      "display_name": "Python 3",
      "language": "python",
      "name": "python3"
    },
    "language_info": {
      "codemirror_mode": {
        "name": "ipython",
        "version": 3
      },
      "file_extension": ".py",
      "mimetype": "text/x-python",
      "name": "python",
      "nbconvert_exporter": "python",
      "pygments_lexer": "ipython3",
      "version": "3.8.3"
    },
    "colab": {
      "provenance": [],
      "include_colab_link": true
    }
  },
  "nbformat": 4,
  "nbformat_minor": 0
}